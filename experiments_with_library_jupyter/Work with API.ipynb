{
 "cells": [
  {
   "cell_type": "code",
   "execution_count": 1,
   "metadata": {},
   "outputs": [],
   "source": [
    "import requests\n",
    "import codecs\n",
    "import pickle\n",
    "import numpy as np"
   ]
  },
  {
   "cell_type": "code",
   "execution_count": 2,
   "metadata": {},
   "outputs": [],
   "source": [
    "import sys\n",
    "sys.path.insert(0, '..')"
   ]
  },
  {
   "cell_type": "code",
   "execution_count": 3,
   "metadata": {},
   "outputs": [],
   "source": [
    "from recommender_system_library.extra_functions.work_with_train_data import *"
   ]
  },
  {
   "cell_type": "markdown",
   "metadata": {},
   "source": [
    "# Создание нового пользователя и получение токена"
   ]
  },
  {
   "cell_type": "code",
   "execution_count": 4,
   "metadata": {},
   "outputs": [],
   "source": [
    "URL_NEW_USER = 'http://127.0.0.1:5000/registration'"
   ]
  },
  {
   "cell_type": "code",
   "execution_count": 5,
   "metadata": {},
   "outputs": [
    {
     "data": {
      "text/plain": [
       "'Bm5aarABH6-J87hLBkZizg'"
      ]
     },
     "execution_count": 5,
     "metadata": {},
     "output_type": "execute_result"
    }
   ],
   "source": [
    "result = requests.post(URL_NEW_USER)\n",
    "token = result.json()['token'] if result.status_code < 300 else f'{result.status_code}: {result.json()}'\n",
    "token"
   ]
  },
  {
   "cell_type": "code",
   "execution_count": 6,
   "metadata": {},
   "outputs": [],
   "source": [
    "headers = {\n",
    "    'token': token\n",
    "}"
   ]
  },
  {
   "cell_type": "markdown",
   "metadata": {},
   "source": [
    "# Создание новой модели"
   ]
  },
  {
   "cell_type": "code",
   "execution_count": 7,
   "metadata": {},
   "outputs": [],
   "source": [
    "URL_CREATE = 'http://127.0.0.1:5000/create'"
   ]
  },
  {
   "cell_type": "code",
   "execution_count": 8,
   "metadata": {},
   "outputs": [],
   "source": [
    "sgd_params_create = {\n",
    "    'dimension': 30, \n",
    "    'learning_rate': 0.0001, \n",
    "    'user_regularization': 0.2, \n",
    "    'item_regularization': 0.3\n",
    "}"
   ]
  },
  {
   "cell_type": "code",
   "execution_count": 9,
   "metadata": {},
   "outputs": [],
   "source": [
    "model_type = 'latent_factor_sgd_model'"
   ]
  },
  {
   "cell_type": "code",
   "execution_count": 10,
   "metadata": {},
   "outputs": [],
   "source": [
    "params_create = {\n",
    "    'type': model_type,\n",
    "    'params': sgd_params_create\n",
    "}"
   ]
  },
  {
   "cell_type": "code",
   "execution_count": 11,
   "metadata": {},
   "outputs": [
    {
     "data": {
      "text/plain": [
       "3"
      ]
     },
     "execution_count": 11,
     "metadata": {},
     "output_type": "execute_result"
    }
   ],
   "source": [
    "result = requests.post(URL_CREATE, json=params_create, headers=headers)\n",
    "model_id = result.json()['id'] if result.status_code < 300 else f'{result.status_code}: {result.json()}'\n",
    "model_id"
   ]
  },
  {
   "cell_type": "markdown",
   "metadata": {},
   "source": [
    "# Обучение модели"
   ]
  },
  {
   "cell_type": "code",
   "execution_count": 12,
   "metadata": {},
   "outputs": [],
   "source": [
    "URL_TRAIN = 'http://127.0.0.1:5000/train/'"
   ]
  },
  {
   "cell_type": "code",
   "execution_count": 13,
   "metadata": {},
   "outputs": [],
   "source": [
    "PATH_TO_DATA = '../data_train/matrices/random_matrix_50_100.npz'"
   ]
  },
  {
   "cell_type": "code",
   "execution_count": 14,
   "metadata": {},
   "outputs": [],
   "source": [
    "matrix = read_matrix_from_file(PATH_TO_DATA)\n",
    "train_matrix = get_train_matrix(matrix, 0.3)"
   ]
  },
  {
   "cell_type": "code",
   "execution_count": 15,
   "metadata": {},
   "outputs": [],
   "source": [
    "embedding_train_params = {'epochs': 100}"
   ]
  },
  {
   "cell_type": "code",
   "execution_count": 16,
   "metadata": {},
   "outputs": [],
   "source": [
    "params_train = {\n",
    "    'params': embedding_train_params,\n",
    "    'train_data': codecs.encode(pickle.dumps(train_matrix), 'base64').decode()\n",
    "}"
   ]
  },
  {
   "cell_type": "code",
   "execution_count": 17,
   "metadata": {},
   "outputs": [
    {
     "data": {
      "text/plain": [
       "'OK'"
      ]
     },
     "execution_count": 17,
     "metadata": {},
     "output_type": "execute_result"
    }
   ],
   "source": [
    "result = requests.post(URL_TRAIN + str(model_id), json=params_train, headers=headers)\n",
    "result_print = 'OK' if result.status_code < 300 else f'{result.status_code}: {result.json()}'\n",
    "result_print"
   ]
  },
  {
   "cell_type": "markdown",
   "metadata": {},
   "source": [
    "# Получение статуса модели"
   ]
  },
  {
   "cell_type": "code",
   "execution_count": 18,
   "metadata": {},
   "outputs": [],
   "source": [
    "URL_STATUS = 'http://127.0.0.1:5000/status/'"
   ]
  },
  {
   "cell_type": "code",
   "execution_count": 19,
   "metadata": {},
   "outputs": [
    {
     "data": {
      "text/plain": [
       "'TRAINING'"
      ]
     },
     "execution_count": 19,
     "metadata": {},
     "output_type": "execute_result"
    }
   ],
   "source": [
    "result = requests.post(URL_STATUS + str(model_id), headers=headers)\n",
    "result_print = result.json()['status'] if result.status_code < 300 else f'{result.status_code}: {result.json()}'\n",
    "result_print"
   ]
  },
  {
   "cell_type": "code",
   "execution_count": 20,
   "metadata": {},
   "outputs": [
    {
     "data": {
      "text/plain": [
       "'READY'"
      ]
     },
     "execution_count": 20,
     "metadata": {},
     "output_type": "execute_result"
    }
   ],
   "source": [
    "result = requests.post(URL_STATUS + str(model_id), headers=headers)\n",
    "result_print = result.json()['status'] if result.status_code < 300 else f'{result.status_code}: {result.json()}'\n",
    "result_print"
   ]
  },
  {
   "cell_type": "markdown",
   "metadata": {},
   "source": [
    "# Получение предсказания модели"
   ]
  },
  {
   "cell_type": "code",
   "execution_count": 21,
   "metadata": {},
   "outputs": [],
   "source": [
    "URL_ITEMS = 'http://127.0.0.1:5000/predict_items/'\n",
    "URL_RATINGS = 'http://127.0.0.1:5000/predict_ratings/'"
   ]
  },
  {
   "cell_type": "code",
   "execution_count": 22,
   "metadata": {},
   "outputs": [],
   "source": [
    "params_predict = {\n",
    "    'user': 13\n",
    "}"
   ]
  },
  {
   "cell_type": "code",
   "execution_count": 23,
   "metadata": {},
   "outputs": [
    {
     "data": {
      "text/plain": [
       "array([96,  3, 81,  0, 42, 56, 39, 10, 70, 44, 92, 30, 66, 14, 93, 72, 57,\n",
       "       38, 20, 77, 35, 51, 84, 47, 27,  8, 34, 37, 67, 28, 55, 97, 94, 23,\n",
       "       43, 52,  5, 48, 19, 53, 65, 61, 91, 25, 26, 87, 36, 13, 89, 54, 24,\n",
       "       63, 60, 74, 45, 32, 11,  4, 16, 62, 40,  9, 49, 85, 80, 90, 68, 59,\n",
       "       71, 50,  7, 58, 88, 69, 83, 21, 15, 29,  6, 17, 22, 64, 78,  1, 33,\n",
       "       41, 75, 76, 18, 12,  2, 31, 98, 79, 86, 73, 82, 99, 46, 95])"
      ]
     },
     "execution_count": 23,
     "metadata": {},
     "output_type": "execute_result"
    }
   ],
   "source": [
    "result = requests.get(URL_ITEMS + str(model_id), json=params_predict, headers=headers)\n",
    "result_print = result.json()['result'] if result.status_code < 300 else f'{result.status_code}: {result.json()}'\n",
    "np.array(result_print)"
   ]
  },
  {
   "cell_type": "code",
   "execution_count": 24,
   "metadata": {},
   "outputs": [
    {
     "data": {
      "text/plain": [
       "array([ 10.65456866,  -3.0669152 ,  -4.70604202,  12.05522334,\n",
       "        -0.19415943,   2.37886417,  -2.69088175,  -2.02785985,\n",
       "         4.00871021,  -1.04933479,   8.1958506 ,  -0.0909268 ,\n",
       "        -4.59722041,   0.77521447,   5.95323295,  -2.47448412,\n",
       "        -0.2801793 ,  -2.74303736,  -4.57142161,   2.09754901,\n",
       "         4.91114298,  -2.3634933 ,  -2.78495335,   2.50498521,\n",
       "         0.40234417,   1.24034984,   1.1743326 ,   4.05371916,\n",
       "         3.58715425,  -2.51314244,   6.52407399,  -5.51116956,\n",
       "        -0.03479903,  -4.10993686,   3.98254455,   4.38245163,\n",
       "         1.05662154,   3.93421161,   5.10464557,   9.28457223,\n",
       "        -0.99062616,  -4.15449933,  10.54600979,   2.49995432,\n",
       "         7.40870641,   0.12403448, -10.34812906,   4.18677189,\n",
       "         2.29897405,  -1.07545609,  -1.9047021 ,   4.3475257 ,\n",
       "         2.49366939,   1.97283566,   0.57556008,   3.01433478,\n",
       "         9.44380835,   5.24576316,  -2.08385976,  -1.79059981,\n",
       "         0.1865839 ,   1.33371669,  -0.50701476,   0.3518669 ,\n",
       "        -2.84135667,   1.39450289,   6.43936571,   3.84674258,\n",
       "        -1.64690096,  -2.25291227,   8.02722631,  -1.82027571,\n",
       "         5.35894229,  -6.55371393,   0.13931288,  -4.24011006,\n",
       "        -4.48723388,   4.86826405,  -2.89898035,  -6.12394939,\n",
       "        -1.4789182 ,  11.62393343,  -8.47189149,  -2.26383688,\n",
       "         4.32999375,  -1.3284859 ,  -6.2953486 ,   1.15672564,\n",
       "        -2.19943488,   0.69590601,  -1.5273928 ,   1.24695855,\n",
       "         6.99482126,   5.8257291 ,   2.93440222, -11.75730353,\n",
       "        15.70055221,   2.93504097,  -5.55877744,  -9.02432817])"
      ]
     },
     "execution_count": 24,
     "metadata": {},
     "output_type": "execute_result"
    }
   ],
   "source": [
    "result = requests.get(URL_RATINGS + str(model_id), json=params_predict, headers=headers)\n",
    "result_print = result.json()['result'] if result.status_code < 300 else f'{result.status_code}: {result.json()}'\n",
    "np.array(result_print)"
   ]
  },
  {
   "cell_type": "markdown",
   "metadata": {},
   "source": [
    "# Дообучение модели"
   ]
  },
  {
   "cell_type": "code",
   "execution_count": 31,
   "metadata": {},
   "outputs": [
    {
     "data": {
      "text/plain": [
       "'OK'"
      ]
     },
     "execution_count": 31,
     "metadata": {},
     "output_type": "execute_result"
    }
   ],
   "source": [
    "result = requests.post(URL_TRAIN + str(model_id), json=params_train, headers=headers)\n",
    "result_print = 'OK' if result.status_code < 300 else f'{result.status_code}: {result.json()}'\n",
    "result_print"
   ]
  },
  {
   "cell_type": "markdown",
   "metadata": {},
   "source": [
    "# Изменение модели"
   ]
  },
  {
   "cell_type": "code",
   "execution_count": 33,
   "metadata": {},
   "outputs": [],
   "source": [
    "URL_CHANGE = 'http://127.0.0.1:5000/change/'"
   ]
  },
  {
   "cell_type": "code",
   "execution_count": 34,
   "metadata": {},
   "outputs": [],
   "source": [
    "sgd_params_change = {\n",
    "    'dimension': 35, \n",
    "    'learning_rate': 0.0001, \n",
    "    'user_regularization': 0.2, \n",
    "    'item_regularization': 0.3\n",
    "}"
   ]
  },
  {
   "cell_type": "code",
   "execution_count": 37,
   "metadata": {},
   "outputs": [],
   "source": [
    "params_not_change = {\n",
    "    'params': sgd_params_create\n",
    "}"
   ]
  },
  {
   "cell_type": "code",
   "execution_count": 38,
   "metadata": {},
   "outputs": [],
   "source": [
    "params_change = {\n",
    "    'params': sgd_params_change\n",
    "}"
   ]
  },
  {
   "cell_type": "code",
   "execution_count": 39,
   "metadata": {},
   "outputs": [
    {
     "data": {
      "text/plain": [
       "\"405: {'message': 'The parameters are the same. Use clear handle'}\""
      ]
     },
     "execution_count": 39,
     "metadata": {},
     "output_type": "execute_result"
    }
   ],
   "source": [
    "result = requests.post(URL_CHANGE + str(model_id), json=params_not_change, headers=headers)\n",
    "result_print = 'OK' if result.status_code < 300 else f'{result.status_code}: {result.json()}'\n",
    "result_print"
   ]
  },
  {
   "cell_type": "code",
   "execution_count": 41,
   "metadata": {},
   "outputs": [
    {
     "data": {
      "text/plain": [
       "'OK'"
      ]
     },
     "execution_count": 41,
     "metadata": {},
     "output_type": "execute_result"
    }
   ],
   "source": [
    "result = requests.post(URL_CHANGE + str(model_id), json=params_change, headers=headers)\n",
    "result_print = 'OK' if result.status_code < 300 else f'{result.status_code}: {result.json()}'\n",
    "result_print"
   ]
  },
  {
   "cell_type": "markdown",
   "metadata": {},
   "source": [
    "# Очищение модели"
   ]
  },
  {
   "cell_type": "code",
   "execution_count": 45,
   "metadata": {},
   "outputs": [],
   "source": [
    "URL_CLEAR = 'http://127.0.0.1:5000/clear/'"
   ]
  },
  {
   "cell_type": "code",
   "execution_count": 46,
   "metadata": {},
   "outputs": [
    {
     "data": {
      "text/plain": [
       "'OK'"
      ]
     },
     "execution_count": 46,
     "metadata": {},
     "output_type": "execute_result"
    }
   ],
   "source": [
    "result = requests.post(URL_CLEAR + str(model_id), headers=headers)\n",
    "result_print = 'OK' if result.status_code < 300 else f'{result.status_code}: {result.json()}'\n",
    "result_print"
   ]
  },
  {
   "cell_type": "code",
   "execution_count": 47,
   "metadata": {},
   "outputs": [
    {
     "data": {
      "text/plain": [
       "\"405: {'message': 'Model should be trained'}\""
      ]
     },
     "execution_count": 47,
     "metadata": {},
     "output_type": "execute_result"
    }
   ],
   "source": [
    "result = requests.get(URL_ITEMS + str(model_id), json=params_predict, headers=headers)\n",
    "result_print = result.json()['result'] if result.status_code < 300 else f'{result.status_code}: {result.json()}'\n",
    "result_print"
   ]
  },
  {
   "cell_type": "markdown",
   "metadata": {},
   "source": [
    "# Удаление модели"
   ]
  },
  {
   "cell_type": "code",
   "execution_count": 48,
   "metadata": {},
   "outputs": [],
   "source": [
    "URL_DELETE = 'http://127.0.0.1:5000/delete/'"
   ]
  },
  {
   "cell_type": "code",
   "execution_count": 49,
   "metadata": {},
   "outputs": [
    {
     "data": {
      "text/plain": [
       "'OK'"
      ]
     },
     "execution_count": 49,
     "metadata": {},
     "output_type": "execute_result"
    }
   ],
   "source": [
    "result = requests.delete(URL_DELETE + str(model_id), headers=headers)\n",
    "result_print = 'OK' if result.status_code < 300 else f'{result.status_code}: {result.json()}'\n",
    "result_print"
   ]
  },
  {
   "cell_type": "code",
   "execution_count": 50,
   "metadata": {},
   "outputs": [
    {
     "data": {
      "text/plain": [
       "\"405: {'message': 'No access to this model'}\""
      ]
     },
     "execution_count": 50,
     "metadata": {},
     "output_type": "execute_result"
    }
   ],
   "source": [
    "result = requests.get(URL_ITEMS + str(model_id), json=params_predict, headers=headers)\n",
    "result_print = result.json()['result'] if result.status_code < 300 else f'{result.status_code}: {result.json()}'\n",
    "result_print"
   ]
  },
  {
   "cell_type": "markdown",
   "metadata": {},
   "source": [
    "# Неправильные запросы"
   ]
  },
  {
   "cell_type": "code",
   "execution_count": 51,
   "metadata": {},
   "outputs": [
    {
     "data": {
      "text/plain": [
       "{'message': 'Token is not valid'}"
      ]
     },
     "execution_count": 51,
     "metadata": {},
     "output_type": "execute_result"
    }
   ],
   "source": [
    "result = requests.delete(URL_DELETE + str(model_id))\n",
    "result.json()"
   ]
  },
  {
   "cell_type": "code",
   "execution_count": 52,
   "metadata": {},
   "outputs": [
    {
     "data": {
      "text/plain": [
       "{'message': 'No access to this model'}"
      ]
     },
     "execution_count": 52,
     "metadata": {},
     "output_type": "execute_result"
    }
   ],
   "source": [
    "result = requests.delete(URL_DELETE + str(1), headers=headers)\n",
    "result.json()"
   ]
  },
  {
   "cell_type": "code",
   "execution_count": 53,
   "metadata": {},
   "outputs": [
    {
     "data": {
      "text/plain": [
       "{'message': 'No needed parameters'}"
      ]
     },
     "execution_count": 53,
     "metadata": {},
     "output_type": "execute_result"
    }
   ],
   "source": [
    "result = requests.post(URL_CREATE, json=params_change, headers=headers)\n",
    "result.json()"
   ]
  },
  {
   "cell_type": "code",
   "execution_count": null,
   "metadata": {},
   "outputs": [],
   "source": []
  }
 ],
 "metadata": {
  "kernelspec": {
   "display_name": "Python 3",
   "language": "python",
   "name": "python3"
  },
  "language_info": {
   "codemirror_mode": {
    "name": "ipython",
    "version": 3
   },
   "file_extension": ".py",
   "mimetype": "text/x-python",
   "name": "python",
   "nbconvert_exporter": "python",
   "pygments_lexer": "ipython3",
   "version": "3.8.5"
  }
 },
 "nbformat": 4,
 "nbformat_minor": 4
}

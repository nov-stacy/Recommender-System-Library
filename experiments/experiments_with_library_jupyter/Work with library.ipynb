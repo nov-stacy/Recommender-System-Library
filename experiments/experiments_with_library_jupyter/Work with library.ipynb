{
 "cells": [
  {
   "cell_type": "code",
   "execution_count": 1,
   "metadata": {},
   "outputs": [],
   "source": [
    "import matplotlib.pyplot as plt"
   ]
  },
  {
   "cell_type": "code",
   "execution_count": 2,
   "metadata": {},
   "outputs": [],
   "source": [
    "from recommender_systems.extra_functions import work_with_tables, work_with_matrices\n",
    "from recommender_systems.extra_functions import work_with_models, work_with_ratings\n",
    "from recommender_systems.models.memory_based_models import UserBasedModel\n",
    "from recommender_systems.models.latent_factor_models import AlternatingLeastSquaresModel\n",
    "from recommender_systems import metrics "
   ]
  },
  {
   "cell_type": "markdown",
   "metadata": {},
   "source": [
    "## Получение матрицы из таблицы"
   ]
  },
  {
   "cell_type": "code",
   "execution_count": 3,
   "metadata": {},
   "outputs": [],
   "source": [
    "PATH_TO_TABLE = '../data_train/tables/random_100_50.csv'\n",
    "PATH_TO_MATRIX = '../data_train/matrices/random_100_50_matrix.npz'"
   ]
  },
  {
   "cell_type": "code",
   "execution_count": 4,
   "metadata": {},
   "outputs": [
    {
     "data": {
      "text/html": [
       "<div>\n",
       "<style scoped>\n",
       "    .dataframe tbody tr th:only-of-type {\n",
       "        vertical-align: middle;\n",
       "    }\n",
       "\n",
       "    .dataframe tbody tr th {\n",
       "        vertical-align: top;\n",
       "    }\n",
       "\n",
       "    .dataframe thead th {\n",
       "        text-align: right;\n",
       "    }\n",
       "</style>\n",
       "<table border=\"1\" class=\"dataframe\">\n",
       "  <thead>\n",
       "    <tr style=\"text-align: right;\">\n",
       "      <th></th>\n",
       "      <th>user_id</th>\n",
       "      <th>item_id</th>\n",
       "      <th>rating</th>\n",
       "    </tr>\n",
       "  </thead>\n",
       "  <tbody>\n",
       "    <tr>\n",
       "      <th>0</th>\n",
       "      <td>0</td>\n",
       "      <td>0</td>\n",
       "      <td>0.766240</td>\n",
       "    </tr>\n",
       "    <tr>\n",
       "      <th>1</th>\n",
       "      <td>0</td>\n",
       "      <td>1</td>\n",
       "      <td>0.153712</td>\n",
       "    </tr>\n",
       "    <tr>\n",
       "      <th>2</th>\n",
       "      <td>0</td>\n",
       "      <td>2</td>\n",
       "      <td>0.628120</td>\n",
       "    </tr>\n",
       "    <tr>\n",
       "      <th>3</th>\n",
       "      <td>0</td>\n",
       "      <td>3</td>\n",
       "      <td>0.230611</td>\n",
       "    </tr>\n",
       "    <tr>\n",
       "      <th>4</th>\n",
       "      <td>0</td>\n",
       "      <td>4</td>\n",
       "      <td>0.605685</td>\n",
       "    </tr>\n",
       "    <tr>\n",
       "      <th>...</th>\n",
       "      <td>...</td>\n",
       "      <td>...</td>\n",
       "      <td>...</td>\n",
       "    </tr>\n",
       "    <tr>\n",
       "      <th>4995</th>\n",
       "      <td>99</td>\n",
       "      <td>45</td>\n",
       "      <td>0.022333</td>\n",
       "    </tr>\n",
       "    <tr>\n",
       "      <th>4996</th>\n",
       "      <td>99</td>\n",
       "      <td>46</td>\n",
       "      <td>0.416725</td>\n",
       "    </tr>\n",
       "    <tr>\n",
       "      <th>4997</th>\n",
       "      <td>99</td>\n",
       "      <td>47</td>\n",
       "      <td>0.635885</td>\n",
       "    </tr>\n",
       "    <tr>\n",
       "      <th>4998</th>\n",
       "      <td>99</td>\n",
       "      <td>48</td>\n",
       "      <td>0.234696</td>\n",
       "    </tr>\n",
       "    <tr>\n",
       "      <th>4999</th>\n",
       "      <td>99</td>\n",
       "      <td>49</td>\n",
       "      <td>0.829865</td>\n",
       "    </tr>\n",
       "  </tbody>\n",
       "</table>\n",
       "<p>5000 rows × 3 columns</p>\n",
       "</div>"
      ],
      "text/plain": [
       "      user_id  item_id    rating\n",
       "0           0        0  0.766240\n",
       "1           0        1  0.153712\n",
       "2           0        2  0.628120\n",
       "3           0        3  0.230611\n",
       "4           0        4  0.605685\n",
       "...       ...      ...       ...\n",
       "4995       99       45  0.022333\n",
       "4996       99       46  0.416725\n",
       "4997       99       47  0.635885\n",
       "4998       99       48  0.234696\n",
       "4999       99       49  0.829865\n",
       "\n",
       "[5000 rows x 3 columns]"
      ]
     },
     "execution_count": 4,
     "metadata": {},
     "output_type": "execute_result"
    }
   ],
   "source": [
    "data = work_with_tables.read_data_from_csv(PATH_TO_TABLE)\n",
    "data['user_id'] = data['user_id'].astype(int)\n",
    "data['item_id'] = data['item_id'].astype(int)\n",
    "data"
   ]
  },
  {
   "cell_type": "code",
   "execution_count": 5,
   "metadata": {},
   "outputs": [
    {
     "data": {
      "text/plain": [
       "<100x50 sparse matrix of type '<class 'numpy.float64'>'\n",
       "\twith 5000 stored elements in COOrdinate format>"
      ]
     },
     "execution_count": 5,
     "metadata": {},
     "output_type": "execute_result"
    }
   ],
   "source": [
    "matrix = work_with_tables.generate_sparse_matrix(data, 'user_id', 'item_id', 'rating')\n",
    "matrix"
   ]
  },
  {
   "cell_type": "code",
   "execution_count": 6,
   "metadata": {},
   "outputs": [],
   "source": [
    "work_with_matrices.write_matrix_to_file(matrix, PATH_TO_MATRIX)"
   ]
  },
  {
   "cell_type": "markdown",
   "metadata": {},
   "source": [
    "## Чтение матрицы. Получение тренировочной матрицы"
   ]
  },
  {
   "cell_type": "code",
   "execution_count": 7,
   "metadata": {},
   "outputs": [],
   "source": [
    "matrix = work_with_matrices.read_matrix_from_file(PATH_TO_MATRIX)"
   ]
  },
  {
   "cell_type": "code",
   "execution_count": 8,
   "metadata": {},
   "outputs": [
    {
     "data": {
      "text/plain": [
       "<100x50 sparse matrix of type '<class 'numpy.float64'>'\n",
       "\twith 1000 stored elements in COOrdinate format>"
      ]
     },
     "execution_count": 8,
     "metadata": {},
     "output_type": "execute_result"
    }
   ],
   "source": [
    "train_matrix = work_with_matrices.get_train_matrix(matrix, 0.2)\n",
    "train_matrix"
   ]
  },
  {
   "cell_type": "markdown",
   "metadata": {},
   "source": [
    "## Обучение модели без эпох"
   ]
  },
  {
   "cell_type": "code",
   "execution_count": 9,
   "metadata": {},
   "outputs": [
    {
     "data": {
      "text/plain": [
       "<recommender_systems.models.memory_based_models._user_based.UserBasedModel at 0x7f35601be0d0>"
      ]
     },
     "execution_count": 9,
     "metadata": {},
     "output_type": "execute_result"
    }
   ],
   "source": [
    "model_ub = UserBasedModel(k_nearest_neighbours=5)\n",
    "model_ub"
   ]
  },
  {
   "cell_type": "code",
   "execution_count": 10,
   "metadata": {},
   "outputs": [],
   "source": [
    "model_ub = model_ub.fit(train_matrix)"
   ]
  },
  {
   "cell_type": "code",
   "execution_count": 11,
   "metadata": {},
   "outputs": [
    {
     "data": {
      "text/plain": [
       "array([ 5,  6, 16, 29, 23, 44, 26, 27, 38, 25, 37, 47, 18, 21, 17, 34, 32,\n",
       "        0, 19, 12,  8,  4, 14, 46, 22, 31, 48,  2, 36, 11, 30, 35, 39,  3,\n",
       "        7, 33,  1, 15, 10, 49, 41, 20, 42, 45, 28, 24,  9, 43, 13, 40])"
      ]
     },
     "execution_count": 11,
     "metadata": {},
     "output_type": "execute_result"
    }
   ],
   "source": [
    "model_ub.predict(0)"
   ]
  },
  {
   "cell_type": "code",
   "execution_count": 12,
   "metadata": {},
   "outputs": [
    {
     "data": {
      "text/plain": [
       "array([ 0.0799798 ,  0.03907567,  0.06118324,  0.04504485,  0.076057  ,\n",
       "        0.38521157,  0.30730715,  0.04229097,  0.07648362,  0.01194289,\n",
       "        0.03590791,  0.05560924,  0.07685856,  0.00586049,  0.06742786,\n",
       "        0.03714878,  0.27601538,  0.11083087,  0.11671789,  0.07745902,\n",
       "        0.0263523 ,  0.11463812,  0.06391406,  0.25574557,  0.01442083,\n",
       "        0.20502056,  0.23872635,  0.22808141,  0.01684282,  0.25658243,\n",
       "        0.05151922,  0.06343015,  0.09152838,  0.0398563 ,  0.09498698,\n",
       "        0.04931654,  0.05912525,  0.17769866,  0.22575971,  0.04845763,\n",
       "       -0.01190556,  0.02698072,  0.02387902,  0.0113286 ,  0.24510784,\n",
       "        0.02308041,  0.06683298,  0.13466886,  0.0630628 ,  0.03352001])"
      ]
     },
     "execution_count": 12,
     "metadata": {},
     "output_type": "execute_result"
    }
   ],
   "source": [
    "model_ub.predict_ratings(0)"
   ]
  },
  {
   "cell_type": "markdown",
   "metadata": {},
   "source": [
    "## Обучение модели с эпохами"
   ]
  },
  {
   "cell_type": "code",
   "execution_count": 13,
   "metadata": {},
   "outputs": [
    {
     "data": {
      "text/plain": [
       "<recommender_systems.models.latent_factor_models._als.AlternatingLeastSquaresModel at 0x7f35601bea30>"
      ]
     },
     "execution_count": 13,
     "metadata": {},
     "output_type": "execute_result"
    }
   ],
   "source": [
    "model_als = AlternatingLeastSquaresModel(dimension=25)\n",
    "model_als"
   ]
  },
  {
   "cell_type": "code",
   "execution_count": 14,
   "metadata": {},
   "outputs": [
    {
     "name": "stderr",
     "output_type": "stream",
     "text": [
      "100%|██████████| 20/20 [00:01<00:00, 11.64it/s]\n"
     ]
    }
   ],
   "source": [
    "model_als = model_als.fit(train_matrix, epochs=20, debug_name='mse', verbose=True)"
   ]
  },
  {
   "cell_type": "code",
   "execution_count": 15,
   "metadata": {},
   "outputs": [
    {
     "data": {
      "text/plain": [
       "array([17, 18, 33, 10, 30, 32, 45, 44, 29, 47,  1, 27, 42, 22, 40, 39, 46,\n",
       "        2, 20, 19, 37, 15, 38, 35,  0, 21,  8, 16, 12, 36, 41,  3, 48, 13,\n",
       "       14, 34, 11, 23, 24, 31, 25,  6,  9,  7,  4, 49, 26, 43, 28,  5])"
      ]
     },
     "execution_count": 15,
     "metadata": {},
     "output_type": "execute_result"
    }
   ],
   "source": [
    "model_als.predict(13)"
   ]
  },
  {
   "cell_type": "code",
   "execution_count": 16,
   "metadata": {},
   "outputs": [
    {
     "data": {
      "text/plain": [
       "array([ 0.04113302,  0.21514228,  0.10832074, -0.02573051, -0.08931638,\n",
       "       -0.15864085, -0.0738369 , -0.08242986,  0.03858675, -0.07587315,\n",
       "        0.73441737, -0.03600967,  0.03141769, -0.03090774, -0.03117221,\n",
       "        0.07540743,  0.03269438,  1.10633484,  1.05986197,  0.09067893,\n",
       "        0.09339898,  0.04002671,  0.14568104, -0.05851004, -0.06397693,\n",
       "       -0.06815583, -0.09659069,  0.16079424, -0.12506664,  0.31285179,\n",
       "        0.71277512, -0.06660312,  0.49807787,  0.81634843, -0.03310818,\n",
       "        0.05057068,  0.01716759,  0.08509543,  0.05665363,  0.11568657,\n",
       "        0.1365956 ,  0.00716716,  0.15623002, -0.10329299,  0.35001635,\n",
       "        0.41692715,  0.11101387,  0.23610159, -0.02856994, -0.09569911])"
      ]
     },
     "execution_count": 16,
     "metadata": {},
     "output_type": "execute_result"
    }
   ],
   "source": [
    "model_als.predict_ratings(13)"
   ]
  },
  {
   "cell_type": "code",
   "execution_count": 17,
   "metadata": {},
   "outputs": [
    {
     "data": {
      "image/png": "[encoded data removed]",
      "text/plain": [
       "<Figure size 432x288 with 1 Axes>"
      ]
     },
     "metadata": {
      "needs_background": "light"
     },
     "output_type": "display_data"
    }
   ],
   "source": [
    "debug_information = model_als.debug_information.get()\n",
    "\n",
    "\n",
    "plt.plot(range(len(debug_information)), debug_information)\n",
    "plt.xlabel('Epoch')\n",
    "plt.ylabel('MSE')\n",
    "plt.title('Debug information for StochasticLatentFactorModel');"
   ]
  },
  {
   "cell_type": "markdown",
   "metadata": {},
   "source": [
    "## Сохранение и загрузка модели"
   ]
  },
  {
   "cell_type": "code",
   "execution_count": 18,
   "metadata": {},
   "outputs": [],
   "source": [
    "model_als.debug_information = None\n",
    "work_with_models.save_model_to_file(model_als, 'model.pkl')"
   ]
  },
  {
   "cell_type": "code",
   "execution_count": 19,
   "metadata": {},
   "outputs": [
    {
     "data": {
      "text/plain": [
       "<recommender_systems.models.latent_factor_models._als.AlternatingLeastSquaresModel at 0x7f355d895490>"
      ]
     },
     "execution_count": 19,
     "metadata": {},
     "output_type": "execute_result"
    }
   ],
   "source": [
    "model_save = work_with_models.get_model_from_file('model.pkl')\n",
    "model_save"
   ]
  },
  {
   "cell_type": "code",
   "execution_count": 20,
   "metadata": {},
   "outputs": [
    {
     "data": {
      "text/plain": [
       "array([17, 18, 33, 10, 30, 32, 45, 44, 29, 47,  1, 27, 42, 22, 40, 39, 46,\n",
       "        2, 20, 19, 37, 15, 38, 35,  0, 21,  8, 16, 12, 36, 41,  3, 48, 13,\n",
       "       14, 34, 11, 23, 24, 31, 25,  6,  9,  7,  4, 49, 26, 43, 28,  5])"
      ]
     },
     "execution_count": 20,
     "metadata": {},
     "output_type": "execute_result"
    }
   ],
   "source": [
    "model_save.predict(13)"
   ]
  },
  {
   "cell_type": "markdown",
   "metadata": {},
   "source": [
    "## Получение метрик качества для модели"
   ]
  },
  {
   "cell_type": "code",
   "execution_count": 21,
   "metadata": {},
   "outputs": [],
   "source": [
    "users_count = 50"
   ]
  },
  {
   "cell_type": "markdown",
   "metadata": {},
   "source": [
    "### Метрики для рейтингов"
   ]
  },
  {
   "cell_type": "code",
   "execution_count": 22,
   "metadata": {},
   "outputs": [],
   "source": [
    "predicted_ratings = [model_als.predict_ratings(user_index) for user_index in range(users_count)]\n",
    "true_ratings = [matrix.getrow(user_index).toarray()[0] for user_index in range(users_count)]"
   ]
  },
  {
   "cell_type": "code",
   "execution_count": 23,
   "metadata": {},
   "outputs": [
    {
     "data": {
      "text/plain": [
       "0.2628453253554591"
      ]
     },
     "execution_count": 23,
     "metadata": {},
     "output_type": "execute_result"
    }
   ],
   "source": [
    "metrics.mean_square_error(true_ratings, predicted_ratings)"
   ]
  },
  {
   "cell_type": "code",
   "execution_count": 24,
   "metadata": {},
   "outputs": [
    {
     "data": {
      "text/plain": [
       "0.41297846999512594"
      ]
     },
     "execution_count": 24,
     "metadata": {},
     "output_type": "execute_result"
    }
   ],
   "source": [
    "metrics.mean_absolute_error(true_ratings, predicted_ratings)"
   ]
  },
  {
   "cell_type": "code",
   "execution_count": 25,
   "metadata": {},
   "outputs": [
    {
     "data": {
      "text/plain": [
       "0.5112468774511378"
      ]
     },
     "execution_count": 25,
     "metadata": {},
     "output_type": "execute_result"
    }
   ],
   "source": [
    "metrics.root_mean_square_error(true_ratings, predicted_ratings)"
   ]
  },
  {
   "cell_type": "markdown",
   "metadata": {},
   "source": [
    "### Метрики для предсказания интересов"
   ]
  },
  {
   "cell_type": "code",
   "execution_count": 26,
   "metadata": {},
   "outputs": [],
   "source": [
    "true_indices, predicted_indices = list(), list()\n",
    "\n",
    "for user_index in range(users_count):\n",
    "    barrier_value = true_ratings[user_index].mean()\n",
    "    true_indices.append(\n",
    "        work_with_ratings.calculate_predicted_items(true_ratings[user_index], barrier_value=barrier_value)\n",
    "    )\n",
    "    predicted_indices.append(\n",
    "        work_with_ratings.calculate_predicted_items(predicted_ratings[user_index], barrier_value=barrier_value)\n",
    "    )"
   ]
  },
  {
   "cell_type": "code",
   "execution_count": 27,
   "metadata": {},
   "outputs": [
    {
     "data": {
      "text/plain": [
       "0.9668095238095239"
      ]
     },
     "execution_count": 27,
     "metadata": {},
     "output_type": "execute_result"
    }
   ],
   "source": [
    "metrics.precision_k(true_indices, predicted_indices)"
   ]
  },
  {
   "cell_type": "code",
   "execution_count": 28,
   "metadata": {},
   "outputs": [
    {
     "data": {
      "text/plain": [
       "0.14839370760285306"
      ]
     },
     "execution_count": 28,
     "metadata": {},
     "output_type": "execute_result"
    }
   ],
   "source": [
    "metrics.recall_k(true_indices, predicted_indices)"
   ]
  },
  {
   "cell_type": "code",
   "execution_count": 29,
   "metadata": {},
   "outputs": [
    {
     "data": {
      "text/plain": [
       "0.24788201777816465"
      ]
     },
     "execution_count": 29,
     "metadata": {},
     "output_type": "execute_result"
    }
   ],
   "source": [
    "metrics.f1_measure(true_indices, predicted_indices)"
   ]
  },
  {
   "cell_type": "markdown",
   "metadata": {},
   "source": [
    "### Метрики для оценки ранжирования"
   ]
  },
  {
   "cell_type": "code",
   "execution_count": 30,
   "metadata": {},
   "outputs": [
    {
     "data": {
      "text/plain": [
       "0.8743158073215741"
      ]
     },
     "execution_count": 30,
     "metadata": {},
     "output_type": "execute_result"
    }
   ],
   "source": [
    "metrics.normalized_discounted_cumulative_gain(true_ratings, predicted_ratings)"
   ]
  },
  {
   "cell_type": "code",
   "execution_count": 31,
   "metadata": {},
   "outputs": [],
   "source": [
    "true_interest = list()\n",
    "\n",
    "for user_index in range(users_count):\n",
    "    barrier_value = true_ratings[user_index].mean()\n",
    "    true_interest.append((true_ratings[user_index] >= barrier_value).astype(int))"
   ]
  },
  {
   "cell_type": "code",
   "execution_count": 32,
   "metadata": {},
   "outputs": [
    {
     "data": {
      "text/plain": [
       "0.5351483665347923"
      ]
     },
     "execution_count": 32,
     "metadata": {},
     "output_type": "execute_result"
    }
   ],
   "source": [
    "metrics.roc_auc(true_interest, predicted_ratings)"
   ]
  },
  {
   "cell_type": "code",
   "execution_count": null,
   "metadata": {},
   "outputs": [],
   "source": []
  }
 ],
 "metadata": {
  "kernelspec": {
   "display_name": "Python 3",
   "language": "python",
   "name": "python3"
  },
  "language_info": {
   "codemirror_mode": {
    "name": "ipython",
    "version": 3
   },
   "file_extension": ".py",
   "mimetype": "text/x-python",
   "name": "python",
   "nbconvert_exporter": "python",
   "pygments_lexer": "ipython3",
   "version": "3.8.5"
  }
 },
 "nbformat": 4,
 "nbformat_minor": 4
}

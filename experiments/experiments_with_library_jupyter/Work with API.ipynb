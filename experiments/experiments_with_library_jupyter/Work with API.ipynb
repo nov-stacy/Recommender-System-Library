{
 "cells": [
  {
   "cell_type": "code",
   "execution_count": 7,
   "metadata": {},
   "outputs": [],
   "source": [
    "import requests\n",
    "import codecs\n",
    "import pickle\n",
    "import numpy as np"
   ]
  },
  {
   "cell_type": "code",
   "execution_count": 26,
   "metadata": {},
   "outputs": [],
   "source": [
    "from recommender_systems.extra_functions.work_with_matrices import *"
   ]
  },
  {
   "cell_type": "markdown",
   "metadata": {},
   "source": [
    "# Создание нового пользователя и получение токена"
   ]
  },
  {
   "cell_type": "code",
   "execution_count": 27,
   "metadata": {},
   "outputs": [],
   "source": [
    "URL_NEW_USER = 'http://127.0.0.1:5000/registration'"
   ]
  },
  {
   "cell_type": "code",
   "execution_count": 28,
   "metadata": {},
   "outputs": [
    {
     "data": {
      "text/plain": [
       "'lfRuvoxcWXG4ttqKMerrGw'"
      ]
     },
     "execution_count": 28,
     "metadata": {},
     "output_type": "execute_result"
    }
   ],
   "source": [
    "result = requests.post(URL_NEW_USER)\n",
    "token = result.json()['token'] if result.status_code < 300 else f'{result.status_code}: {result.json()}'\n",
    "token"
   ]
  },
  {
   "cell_type": "code",
   "execution_count": 29,
   "metadata": {},
   "outputs": [],
   "source": [
    "headers = {\n",
    "    'token': token\n",
    "}"
   ]
  },
  {
   "cell_type": "markdown",
   "metadata": {},
   "source": [
    "# Создание новой модели"
   ]
  },
  {
   "cell_type": "code",
   "execution_count": 30,
   "metadata": {},
   "outputs": [],
   "source": [
    "URL_CREATE = 'http://127.0.0.1:5000/create'"
   ]
  },
  {
   "cell_type": "code",
   "execution_count": 31,
   "metadata": {},
   "outputs": [],
   "source": [
    "sgd_params_create = {\n",
    "    'dimension': 30, \n",
    "    'learning_rate': 0.0001, \n",
    "    'user_regularization': 0.2, \n",
    "    'item_regularization': 0.3\n",
    "}"
   ]
  },
  {
   "cell_type": "code",
   "execution_count": 32,
   "metadata": {},
   "outputs": [],
   "source": [
    "model_type = 'latent_factor_sgd_model'"
   ]
  },
  {
   "cell_type": "code",
   "execution_count": 33,
   "metadata": {},
   "outputs": [],
   "source": [
    "params_create = {\n",
    "    'type': model_type,\n",
    "    'params': sgd_params_create\n",
    "}"
   ]
  },
  {
   "cell_type": "code",
   "execution_count": 34,
   "metadata": {},
   "outputs": [
    {
     "data": {
      "text/plain": [
       "8"
      ]
     },
     "execution_count": 34,
     "metadata": {},
     "output_type": "execute_result"
    }
   ],
   "source": [
    "result = requests.post(URL_CREATE, json=params_create, headers=headers)\n",
    "model_id = result.json()['id'] if result.status_code < 300 else f'{result.status_code}: {result.json()}'\n",
    "model_id"
   ]
  },
  {
   "cell_type": "markdown",
   "metadata": {},
   "source": [
    "# Обучение модели"
   ]
  },
  {
   "cell_type": "code",
   "execution_count": 50,
   "metadata": {},
   "outputs": [],
   "source": [
    "URL_TRAIN = 'http://127.0.0.1:5000/train/'"
   ]
  },
  {
   "cell_type": "code",
   "execution_count": 51,
   "metadata": {},
   "outputs": [],
   "source": [
    "PATH_TO_DATA = '../data_train/matrices/random_50_100_matrix.npz'"
   ]
  },
  {
   "cell_type": "code",
   "execution_count": 52,
   "metadata": {},
   "outputs": [],
   "source": [
    "matrix = read_matrix_from_file(PATH_TO_DATA)\n",
    "train_matrix = get_train_matrix(matrix, 0.3)"
   ]
  },
  {
   "cell_type": "code",
   "execution_count": 53,
   "metadata": {},
   "outputs": [],
   "source": [
    "embedding_not_train_params = {'epochs_': 100}"
   ]
  },
  {
   "cell_type": "code",
   "execution_count": 54,
   "metadata": {},
   "outputs": [],
   "source": [
    "embedding_train_params = {'epochs': 100}"
   ]
  },
  {
   "cell_type": "code",
   "execution_count": 55,
   "metadata": {},
   "outputs": [],
   "source": [
    "params_not_train = {\n",
    "    'params': embedding_not_train_params,\n",
    "    'train_data': codecs.encode(pickle.dumps(train_matrix), 'base64').decode()\n",
    "}"
   ]
  },
  {
   "cell_type": "code",
   "execution_count": 56,
   "metadata": {},
   "outputs": [],
   "source": [
    "params_train = {\n",
    "    'params': embedding_train_params,\n",
    "    'train_data': codecs.encode(pickle.dumps(train_matrix), 'base64').decode()\n",
    "}"
   ]
  },
  {
   "cell_type": "code",
   "execution_count": 57,
   "metadata": {},
   "outputs": [
    {
     "data": {
      "text/plain": [
       "\"400: {'message': 'Error in training'}\""
      ]
     },
     "execution_count": 57,
     "metadata": {},
     "output_type": "execute_result"
    }
   ],
   "source": [
    "result = requests.post(URL_TRAIN + str(model_id), json=params_not_train, headers=headers)\n",
    "result_print = 'OK' if result.status_code < 300 else f'{result.status_code}: {result.json()}'\n",
    "result_print"
   ]
  },
  {
   "cell_type": "code",
   "execution_count": 58,
   "metadata": {},
   "outputs": [
    {
     "data": {
      "text/plain": [
       "'OK'"
      ]
     },
     "execution_count": 58,
     "metadata": {},
     "output_type": "execute_result"
    }
   ],
   "source": [
    "result = requests.post(URL_TRAIN + str(model_id), json=params_train, headers=headers)\n",
    "result_print = 'OK' if result.status_code < 300 else f'{result.status_code}: {result.json()}'\n",
    "result_print"
   ]
  },
  {
   "cell_type": "markdown",
   "metadata": {},
   "source": [
    "# Получение статуса модели"
   ]
  },
  {
   "cell_type": "code",
   "execution_count": 59,
   "metadata": {},
   "outputs": [],
   "source": [
    "URL_STATUS = 'http://127.0.0.1:5000/status/'"
   ]
  },
  {
   "cell_type": "code",
   "execution_count": 60,
   "metadata": {},
   "outputs": [
    {
     "data": {
      "text/plain": [
       "'TRAINING'"
      ]
     },
     "execution_count": 60,
     "metadata": {},
     "output_type": "execute_result"
    }
   ],
   "source": [
    "result = requests.post(URL_STATUS + str(model_id), headers=headers)\n",
    "result_print = result.json()['status'] if result.status_code < 300 else f'{result.status_code}: {result.json()}'\n",
    "result_print"
   ]
  },
  {
   "cell_type": "code",
   "execution_count": 61,
   "metadata": {},
   "outputs": [
    {
     "data": {
      "text/plain": [
       "'READY'"
      ]
     },
     "execution_count": 61,
     "metadata": {},
     "output_type": "execute_result"
    }
   ],
   "source": [
    "result = requests.post(URL_STATUS + str(model_id), headers=headers)\n",
    "result_print = result.json()['status'] if result.status_code < 300 else f'{result.status_code}: {result.json()}'\n",
    "result_print"
   ]
  },
  {
   "cell_type": "markdown",
   "metadata": {},
   "source": [
    "# Получение предсказания модели"
   ]
  },
  {
   "cell_type": "code",
   "execution_count": 62,
   "metadata": {},
   "outputs": [],
   "source": [
    "URL_ITEMS = 'http://127.0.0.1:5000/predict_items/'\n",
    "URL_RATINGS = 'http://127.0.0.1:5000/predict_ratings/'"
   ]
  },
  {
   "cell_type": "code",
   "execution_count": 63,
   "metadata": {},
   "outputs": [],
   "source": [
    "params_predict = {\n",
    "    'user': 13\n",
    "}"
   ]
  },
  {
   "cell_type": "code",
   "execution_count": 64,
   "metadata": {},
   "outputs": [
    {
     "data": {
      "text/plain": [
       "array([ 3, 11, 62, 30, 45, 98, 36, 25, 21, 99, 16, 60,  1, 20, 91, 75, 18,\n",
       "       65,  0, 84, 74, 34, 44, 95, 10, 68, 88, 72, 48, 78, 35, 66,  5, 53,\n",
       "       79,  7, 31, 15, 28, 67, 55, 82, 26, 47, 17, 24, 85, 58, 43, 86,  2,\n",
       "       87, 19, 90, 57,  6, 23, 41, 12, 94, 42, 51, 76, 89, 29, 92, 39, 97,\n",
       "       27, 56, 59, 22, 73, 46, 81, 71, 32, 40,  9,  8, 93, 61, 50,  4, 54,\n",
       "       69, 37, 96, 63, 70, 38, 77, 80, 49, 13, 33, 83, 64, 14, 52])"
      ]
     },
     "execution_count": 64,
     "metadata": {},
     "output_type": "execute_result"
    }
   ],
   "source": [
    "result = requests.get(URL_ITEMS + str(model_id), json=params_predict, headers=headers)\n",
    "result_print = result.json()['result'] if result.status_code < 300 else f'{result.status_code}: {result.json()}'\n",
    "np.array(result_print)"
   ]
  },
  {
   "cell_type": "code",
   "execution_count": 65,
   "metadata": {},
   "outputs": [
    {
     "data": {
      "text/plain": [
       "array([ 2.05623204,  2.64544554,  0.17578107,  7.68479815, -2.27118021,\n",
       "        0.95531113, -0.1678444 ,  0.81793449, -1.79698299, -1.79079713,\n",
       "        1.4573744 ,  6.65557074, -0.28327849, -2.80964942, -3.43955458,\n",
       "        0.75285188,  2.68684471,  0.49525324,  2.18613465, -0.08930122,\n",
       "        2.59295795,  3.04785878, -1.22342341, -0.22919998,  0.3840099 ,\n",
       "        3.67518086,  0.51187011, -1.12158544,  0.7423655 , -0.72490768,\n",
       "        4.09072354,  0.78271238, -1.74633444, -2.82072303,  1.81364991,\n",
       "        1.0715593 ,  3.92254401, -2.34790755, -2.52263511, -0.97105993,\n",
       "       -1.77119644, -0.24188855, -0.4256759 ,  0.24897264,  1.55429171,\n",
       "        3.97011897, -1.45266598,  0.50820935,  1.11445958, -2.76995864,\n",
       "       -2.21441323, -0.48723941, -5.57569355,  0.9416595 , -2.30629956,\n",
       "        0.57484548, -1.13443403, -0.1608947 ,  0.2689804 , -1.15129806,\n",
       "        2.68636711, -2.20963661,  4.76503937, -2.43045436, -3.0892826 ,\n",
       "        2.14409726,  1.00524431,  0.61183593,  1.44895298, -2.31810077,\n",
       "       -2.47480198, -1.69768294,  1.12457   , -1.25045687,  1.84110114,\n",
       "        2.4018464 , -0.69145631, -2.59455038,  1.10275432,  0.84532977,\n",
       "       -2.62693929, -1.60636286,  0.5613025 , -2.9885336 ,  1.91845889,\n",
       "        0.36258889,  0.23572626,  0.0577634 ,  1.22453116, -0.71357991,\n",
       "       -0.12652496,  2.43794792, -0.88481887, -2.09248987, -0.42202126,\n",
       "        1.50889798, -2.36213836, -1.00157554,  3.92935186,  2.69783528])"
      ]
     },
     "execution_count": 65,
     "metadata": {},
     "output_type": "execute_result"
    }
   ],
   "source": [
    "result = requests.get(URL_RATINGS + str(model_id), json=params_predict, headers=headers)\n",
    "result_print = result.json()['result'] if result.status_code < 300 else f'{result.status_code}: {result.json()}'\n",
    "np.array(result_print)"
   ]
  },
  {
   "cell_type": "markdown",
   "metadata": {},
   "source": [
    "# Дообучение модели"
   ]
  },
  {
   "cell_type": "code",
   "execution_count": 66,
   "metadata": {},
   "outputs": [
    {
     "data": {
      "text/plain": [
       "'OK'"
      ]
     },
     "execution_count": 66,
     "metadata": {},
     "output_type": "execute_result"
    }
   ],
   "source": [
    "result = requests.post(URL_TRAIN + str(model_id), json=params_train, headers=headers)\n",
    "result_print = 'OK' if result.status_code < 300 else f'{result.status_code}: {result.json()}'\n",
    "result_print"
   ]
  },
  {
   "cell_type": "markdown",
   "metadata": {},
   "source": [
    "# Изменение модели"
   ]
  },
  {
   "cell_type": "code",
   "execution_count": 67,
   "metadata": {},
   "outputs": [],
   "source": [
    "URL_CHANGE = 'http://127.0.0.1:5000/change/'"
   ]
  },
  {
   "cell_type": "code",
   "execution_count": 68,
   "metadata": {},
   "outputs": [],
   "source": [
    "sgd_params_change = {\n",
    "    'dimension': 35, \n",
    "    'learning_rate': 0.0001, \n",
    "    'user_regularization': 0.2, \n",
    "    'item_regularization': 0.3\n",
    "}"
   ]
  },
  {
   "cell_type": "code",
   "execution_count": 69,
   "metadata": {},
   "outputs": [],
   "source": [
    "params_not_change = {\n",
    "    'params': sgd_params_create\n",
    "}"
   ]
  },
  {
   "cell_type": "code",
   "execution_count": 70,
   "metadata": {},
   "outputs": [],
   "source": [
    "params_change = {\n",
    "    'params': sgd_params_change\n",
    "}"
   ]
  },
  {
   "cell_type": "code",
   "execution_count": 71,
   "metadata": {},
   "outputs": [
    {
     "data": {
      "text/plain": [
       "\"405: {'message': 'The parameters are the same. Use clear handle'}\""
      ]
     },
     "execution_count": 71,
     "metadata": {},
     "output_type": "execute_result"
    }
   ],
   "source": [
    "result = requests.post(URL_CHANGE + str(model_id), json=params_not_change, headers=headers)\n",
    "result_print = 'OK' if result.status_code < 300 else f'{result.status_code}: {result.json()}'\n",
    "result_print"
   ]
  },
  {
   "cell_type": "code",
   "execution_count": 72,
   "metadata": {},
   "outputs": [
    {
     "data": {
      "text/plain": [
       "'OK'"
      ]
     },
     "execution_count": 72,
     "metadata": {},
     "output_type": "execute_result"
    }
   ],
   "source": [
    "result = requests.post(URL_CHANGE + str(model_id), json=params_change, headers=headers)\n",
    "result_print = 'OK' if result.status_code < 300 else f'{result.status_code}: {result.json()}'\n",
    "result_print"
   ]
  },
  {
   "cell_type": "markdown",
   "metadata": {},
   "source": [
    "# Очищение модели"
   ]
  },
  {
   "cell_type": "code",
   "execution_count": 73,
   "metadata": {},
   "outputs": [],
   "source": [
    "URL_CLEAR = 'http://127.0.0.1:5000/clear/'"
   ]
  },
  {
   "cell_type": "code",
   "execution_count": 74,
   "metadata": {},
   "outputs": [
    {
     "data": {
      "text/plain": [
       "'OK'"
      ]
     },
     "execution_count": 74,
     "metadata": {},
     "output_type": "execute_result"
    }
   ],
   "source": [
    "result = requests.post(URL_CLEAR + str(model_id), headers=headers)\n",
    "result_print = 'OK' if result.status_code < 300 else f'{result.status_code}: {result.json()}'\n",
    "result_print"
   ]
  },
  {
   "cell_type": "code",
   "execution_count": 75,
   "metadata": {},
   "outputs": [
    {
     "data": {
      "text/plain": [
       "\"405: {'message': 'Model should be trained'}\""
      ]
     },
     "execution_count": 75,
     "metadata": {},
     "output_type": "execute_result"
    }
   ],
   "source": [
    "result = requests.get(URL_ITEMS + str(model_id), json=params_predict, headers=headers)\n",
    "result_print = result.json()['result'] if result.status_code < 300 else f'{result.status_code}: {result.json()}'\n",
    "result_print"
   ]
  },
  {
   "cell_type": "markdown",
   "metadata": {},
   "source": [
    "# Удаление модели"
   ]
  },
  {
   "cell_type": "code",
   "execution_count": 76,
   "metadata": {},
   "outputs": [],
   "source": [
    "URL_DELETE = 'http://127.0.0.1:5000/delete/'"
   ]
  },
  {
   "cell_type": "code",
   "execution_count": 77,
   "metadata": {},
   "outputs": [
    {
     "data": {
      "text/plain": [
       "'OK'"
      ]
     },
     "execution_count": 77,
     "metadata": {},
     "output_type": "execute_result"
    }
   ],
   "source": [
    "result = requests.delete(URL_DELETE + str(model_id), headers=headers)\n",
    "result_print = 'OK' if result.status_code < 300 else f'{result.status_code}: {result.json()}'\n",
    "result_print"
   ]
  },
  {
   "cell_type": "code",
   "execution_count": 78,
   "metadata": {},
   "outputs": [
    {
     "data": {
      "text/plain": [
       "\"405: {'message': 'No access to this model'}\""
      ]
     },
     "execution_count": 78,
     "metadata": {},
     "output_type": "execute_result"
    }
   ],
   "source": [
    "result = requests.get(URL_ITEMS + str(model_id), json=params_predict, headers=headers)\n",
    "result_print = result.json()['result'] if result.status_code < 300 else f'{result.status_code}: {result.json()}'\n",
    "result_print"
   ]
  },
  {
   "cell_type": "markdown",
   "metadata": {},
   "source": [
    "# Неправильные запросы"
   ]
  },
  {
   "cell_type": "code",
   "execution_count": 79,
   "metadata": {},
   "outputs": [
    {
     "data": {
      "text/plain": [
       "{'message': 'Token is not valid'}"
      ]
     },
     "execution_count": 79,
     "metadata": {},
     "output_type": "execute_result"
    }
   ],
   "source": [
    "result = requests.delete(URL_DELETE + str(model_id))\n",
    "result.json()"
   ]
  },
  {
   "cell_type": "code",
   "execution_count": 80,
   "metadata": {},
   "outputs": [
    {
     "data": {
      "text/plain": [
       "{'message': 'No access to this model'}"
      ]
     },
     "execution_count": 80,
     "metadata": {},
     "output_type": "execute_result"
    }
   ],
   "source": [
    "result = requests.delete(URL_DELETE + str(1), headers=headers)\n",
    "result.json()"
   ]
  },
  {
   "cell_type": "code",
   "execution_count": 81,
   "metadata": {},
   "outputs": [
    {
     "data": {
      "text/plain": [
       "{'message': 'No needed parameters'}"
      ]
     },
     "execution_count": 81,
     "metadata": {},
     "output_type": "execute_result"
    }
   ],
   "source": [
    "result = requests.post(URL_CREATE, json=params_change, headers=headers)\n",
    "result.json()"
   ]
  },
  {
   "cell_type": "code",
   "execution_count": null,
   "metadata": {},
   "outputs": [],
   "source": []
  }
 ],
 "metadata": {
  "kernelspec": {
   "display_name": "Python 3",
   "language": "python",
   "name": "python3"
  },
  "language_info": {
   "codemirror_mode": {
    "name": "ipython",
    "version": 3
   },
   "file_extension": ".py",
   "mimetype": "text/x-python",
   "name": "python",
   "nbconvert_exporter": "python",
   "pygments_lexer": "ipython3",
   "version": "3.8.5"
  }
 },
 "nbformat": 4,
 "nbformat_minor": 4
}
